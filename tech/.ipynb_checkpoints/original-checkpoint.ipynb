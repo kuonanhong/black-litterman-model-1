{
 "cells": [
  {
   "cell_type": "markdown",
   "metadata": {},
   "source": [
    "The first block is copied from Quantopian with a little bit modification. \n",
    "\n",
    "it contains some basic function, the usage is self-explanatory\n",
    "\n",
    "special note: the objective function is fitness\n",
    "\n",
    "you can incorporate other penalties such as low beta, maximun drawdown, etc.. to further regularize your portfolio\n",
    "\n",
    "the solve_weights function does the constrained optimization, you can specify constrains on parameter W. refer scipy.optimize for detailed usage"
   ]
  },
  {
   "cell_type": "code",
   "execution_count": 60,
   "metadata": {
    "collapsed": true
   },
   "outputs": [],
   "source": [
    "from numpy import matrix, array, zeros, empty, sqrt, ones, dot, append, mean, cov, transpose, linspace\n",
    "from numpy.linalg import inv, pinv\n",
    "import numpy as np\n",
    "import scipy.optimize\n",
    "import math\n",
    "\n",
    "# This algorithm performs a Black-Litterman portfolio construction. The framework\n",
    "# is built on the classical mean-variance approach, but allows the investor to \n",
    "# specify views about the over- or under- performance of various assets.\n",
    "# Uses ideas from the Global Minimum Variance Portfolio \n",
    "# algorithm posted on Quantopian. Ideas also adopted from \n",
    "# http://www.quantandfinancial.com/2013/08/portfolio-optimization-ii-black.html.\n",
    "\n",
    "# Compute the expected return of the portfolio.\n",
    "def compute_mean(W,R):\n",
    "    return sum(R*W)\n",
    "\n",
    "# Compute the variance of the portfolio.\n",
    "def compute_var(W,C):\n",
    "    return dot(dot(W, C), W)\n",
    "\n",
    "# Combination of the two functions above - mean and variance of returns calculation. \n",
    "def compute_mean_var(W, R, C):\n",
    "    return compute_mean(W, R), compute_var(W, C)\n",
    "\n",
    "# objective function you can add other constrains or targets here\n",
    "def fitness(W, R, C, r):\n",
    "    # For given level of return r, find weights which minimizes portfolio variance.\n",
    "    mean_1, var = compute_mean_var(W, R, C)\n",
    "    # Penalty for not meeting stated portfolio return effectively serves as optimization constraint\n",
    "    # Here, r is the 'target' return\n",
    "    '''\n",
    "    this will have to bechanged as higher the return the better. So abs(mean_1-r) should b changed\n",
    "    to \n",
    "    '''\n",
    "    penalty = 0.1*abs(mean_1-r)\n",
    "    return var + penalty\n",
    "\n",
    "# Solve for optimal portfolio weights\n",
    "def solve_weights(R, C, rf, r_target):\n",
    "    n = len(R)\n",
    "    W = ones([n])/n # Start optimization with equal weights\n",
    "    b_ = [(0.1,1) for i in range(n)] # Bounds for decision variables\n",
    "    c_ = ({'type':'eq', 'fun': lambda W: sum(W)-1. }) # Constraints - weights must sum to 1\n",
    "    # 'target' return is the expected return on the market portfolio\n",
    "    optimized = scipy.optimize.minimize(fitness, W, (R, C, r_target), method='SLSQP', constraints=c_, bounds=b_)\n",
    "    if not optimized.success:\n",
    "        raise BaseException(optimized.message)\n",
    "    return optimized.x     \n",
    "        \n",
    "# Weights - array of asset weights (derived from market capitalizations)\n",
    "# Expreturns - expected returns based on historical data\n",
    "# Covars - covariance matrix of asset returns based on historical data\n",
    "def assets_meanvar(daily_returns):    \n",
    "    \n",
    "    # Calculate expected returns\n",
    "    expreturns = array([])\n",
    "    (rows, cols) = daily_returns.shape\n",
    "    for r in range(rows):\n",
    "        expreturns = append(expreturns, mean(daily_returns[r]))\n",
    "    \n",
    "    # Compute covariance matrix\n",
    "    covars = cov(daily_returns)\n",
    "    # no need to annualize the covariance as the equation from investopedia illustrated\n",
    "    # Annualize expected returns and covariances\n",
    "    # Assumes 255 trading days per year    \n",
    "    expreturns = (1+expreturns)**255-1\n",
    "    covars = covars * 255\n",
    "\n",
    "    return expreturns, covars\n"
   ]
  },
  {
   "cell_type": "markdown",
   "metadata": {},
   "source": [
    "This block generate hypothetical return data for illustration purpose, use real data for your case."
   ]
  },
  {
   "cell_type": "code",
   "execution_count": 72,
   "metadata": {
    "collapsed": true
   },
   "outputs": [],
   "source": [
    "# simulate hypothetical return data \n",
    "# use actual data in your case !!\n",
    "# return data is a n*t np matrix\n",
    "\n",
    "import numpy as np\n",
    "np.random.seed(520)\n",
    "daily_mean = np.array([[0.12],[0.07],[0.054],[0.36],[0.2]])/255\n",
    "daily_vol = np.array([[0.45],[0.4],[0.33],[0.44],[0.6]])/np.sqrt(255)\n",
    "corr = np.array([[1, -0.1, 0.35, 0.5, 0.7],[ -0.1, 1, 0.5, 0.5, 0.5],[0.35, 0.5, 1, 0.5, 0.5],[0.5, 0.5, 0.5, 1, 0.5],[0.7, 0.5, 0.5, 0.5, 1]])\n",
    "daily_cov = dot(daily_vol,transpose(daily_vol))*corr\n",
    "\n",
    "eta = np.random.multivariate_normal(daily_mean.ravel(), daily_cov, size = 255*5).transpose()\n",
    "sim_return = np.exp(daily_mean+daily_vol*eta-1/2*daily_vol**2)-1\n",
    "\n",
    "# set rf (assumption)\n",
    "rf = 0.015"
   ]
  },
  {
   "cell_type": "markdown",
   "metadata": {},
   "source": [
    "start to compute prior weights\n",
    "\n",
    "\n",
    "note: In the case there are 5 assets, change number correspondingly to your case "
   ]
  },
  {
   "cell_type": "code",
   "execution_count": 76,
   "metadata": {
    "scrolled": false
   },
   "outputs": [
    {
     "name": "stdout",
     "output_type": "stream",
     "text": [
      "historical average return\n",
      "[ 0.01728065 -0.00786058  0.00144383  0.30626887  0.02307012]\n",
      "capm implied return: model specific ! not accurate!\n",
      "[ 0.06325943  0.04685479  0.03986872  0.06601436  0.12420558]\n",
      "the prior new weights is\n",
      "[ 0.21269055  0.21964281  0.21721617  0.14001175  0.21043872]\n",
      "the prior portfolio expected return is\n",
      "0.0677865821375\n",
      "the prior portfolio expected volatility is\n",
      "0.00985584052799\n"
     ]
    }
   ],
   "source": [
    "expreturns, covars = assets_meanvar(sim_return)\n",
    "R = expreturns # R is the vector of expected returns\n",
    "C = covars # C is the covariance matrix\n",
    "\n",
    "# use historical data as prior mean and cov\n",
    "Pi = R - rf\n",
    "print('historical average return')\n",
    "print(R)\n",
    "# uncomoment to use capm prior\n",
    "W = np.ones(5)/5\n",
    "new_mean = compute_mean(W,R)\n",
    "new_var = compute_var(W,C)\n",
    "        \n",
    "lmb = (new_mean - rf) / new_var # Compute implied equity risk premium\n",
    "Pi = dot(dot(lmb, C), W) # Compute equilibrium excess returns\n",
    "print('capm implied return: model specific ! not accurate!')\n",
    "print(Pi+rf)\n",
    "\n",
    "# Solve for weights before incorporating views (example target = 0.05)\n",
    "W = solve_weights(R, C, rf, r_target = 0.05)\n",
    "mean_prior, var_prior = compute_mean_var(W, Pi+rf, C) \n",
    "\n",
    "print('the prior new weights is')\n",
    "print(W)\n",
    "print('the prior portfolio expected return is')\n",
    "print(mean_prior)\n",
    "print('the prior portfolio expected volatility is')\n",
    "print(np.sqrt(var_prior))\n",
    "\n"
   ]
  },
  {
   "cell_type": "markdown",
   "metadata": {},
   "source": [
    "varying the target return to plot prior m-v frontier"
   ]
  },
  {
   "cell_type": "code",
   "execution_count": 74,
   "metadata": {
    "collapsed": true
   },
   "outputs": [],
   "source": [
    "# plot the prior m-v frontier\n",
    "n = 50\n",
    "plot_mean = np.zeros(n)\n",
    "plot_var = np.zeros(n)\n",
    "for i in range(n):\n",
    "    r_target = i*0.001\n",
    "    W = solve_weights(R, C, rf, r_target = r_target)\n",
    "    plot_mean[i], plot_var[i] = compute_mean_var(W, Pi+rf, C) "
   ]
  },
  {
   "cell_type": "code",
   "execution_count": 75,
   "metadata": {
    "scrolled": true
   },
   "outputs": [
    {
     "data": {
      "image/png": "[encoded data removed]",
      "text/plain": [
       "<matplotlib.figure.Figure at 0x149872f4e48>"
      ]
     },
     "metadata": {},
     "output_type": "display_data"
    }
   ],
   "source": [
    "import matplotlib as mpl\n",
    "import matplotlib.pyplot as plt\n",
    "import seaborn as sns\n",
    "\n",
    "sns.set_style('white', {\"xtick.major.size\": 2, \"ytick.major.size\": 2})\n",
    "flatui = [\"#9b59b6\", \"#3498db\", \"#95a5a6\", \"#e74c3c\", \"#34495e\", \"#2ecc71\",\"#f4cae4\"]\n",
    "sns.set_palette(sns.color_palette(flatui,7))\n",
    "\n",
    "font = {'family' : 'Serif',\n",
    "         'weight': 'normal',\n",
    "         'size'  : 11}\n",
    "mpl.rc('font', **font)\n",
    "# a4 size: 8.27,11.69\n",
    "fig = plt.figure(figsize=(8.27,3.5))\n",
    "ax = fig.add_subplot(111)\n",
    "\n",
    "ax.plot(plot_var, plot_mean, c = 'xkcd:ocean blue')\n",
    "ax.set_xlabel('variance')\n",
    "ax.set_ylabel('mean')\n",
    "ax.set_title('prior mean-variance frontier')\n",
    "\n",
    "plt.legend(loc='best') \n",
    "plt.show()            "
   ]
  },
  {
   "cell_type": "markdown",
   "metadata": {},
   "source": [
    "incorporate your view, compute posterior weights"
   ]
  },
  {
   "cell_type": "code",
   "execution_count": 19,
   "metadata": {},
   "outputs": [
    {
     "name": "stdout",
     "output_type": "stream",
     "text": [
      "the posterior new weights is\n",
      "[ 0.1         0.1         0.1         0.31022784  0.38977216]\n",
      "the posterior portfolio expected return is\n",
      "0.0600393163737\n",
      "the posterior portfolio expected volatility is\n",
      "0.0146885558362\n"
     ]
    }
   ],
   "source": [
    "# VIEWS ON ASSET PERFORMANCE\n",
    "# asset 1 will out perform asset 2 by 3%, and\n",
    "# that asset 1 will outperform asset 3 by 2%.\n",
    "# that asset 5 will under outperform the benchmark by 5%\n",
    "P = np.array([[1,-1,0,0,0], [1,0,-1,0,0], [0,0,0,0,1]])  \n",
    "Q = np.array([0.03,0.02, 0.05])\n",
    "\n",
    "\n",
    "## note adjust tau to adjust your confidence about your view\n",
    "tau = 0.025 # tau is a scalar indicating the uncertainty \n",
    "# in the CAPM (Capital Asset Pricing Model) prior\n",
    "omega = dot(dot(dot(tau, P), C), transpose(P)) # omega represents \n",
    "# the uncertainty of our views. Rather than specify the 'confidence'\n",
    "# in one's view explicitly, we extrapolate an implied uncertainty\n",
    "# from market parameters.\n",
    "\n",
    "# Compute equilibrium excess returns taking into account views on assets\n",
    "sub_a = inv(dot(tau, C))\n",
    "sub_b = dot(dot(transpose(P), inv(omega)), P)\n",
    "sub_c = dot(inv(dot(tau, C)), Pi)\n",
    "sub_d = dot(dot(transpose(P), inv(omega)), Q)\n",
    "Pi_new = dot(inv(sub_a + sub_b), (sub_c + sub_d))         \n",
    "# Perform a mean-variance optimization taking into account views          \n",
    "\n",
    "new_weights = solve_weights(Pi_new + rf, C, rf, r_target = 0.08)\n",
    "mean_new, var_new = compute_mean_var(new_weights, Pi_new + rf, C)\n",
    "print('the posterior new weights is')\n",
    "print(new_weights)\n",
    "print('the posterior portfolio expected return is')\n",
    "print(mean_new)\n",
    "print('the posterior portfolio expected volatility is')\n",
    "print(np.sqrt(var_new))"
   ]
  },
  {
   "cell_type": "markdown",
   "metadata": {},
   "source": [
    "varying the target return to plot posterior m-v frontier"
   ]
  },
  {
   "cell_type": "code",
   "execution_count": 20,
   "metadata": {
    "collapsed": true
   },
   "outputs": [],
   "source": [
    "# plot the posterior m-v frontier\n",
    "n = 100\n",
    "plot_mean = np.zeros(n)\n",
    "plot_var = np.zeros(n)\n",
    "for i in range(n):\n",
    "    r_target = i*0.001\n",
    "    new_weights = solve_weights(Pi_new+rf, C, rf, r_target = r_target)\n",
    "    plot_mean[i], plot_var[i] = compute_mean_var(new_weights, Pi_new + rf, C) "
   ]
  },
  {
   "cell_type": "code",
   "execution_count": 21,
   "metadata": {},
   "outputs": [
    {
     "data": {
      "image/png": "[encoded data removed]",
      "text/plain": [
       "<matplotlib.figure.Figure at 0x149fffb8f98>"
      ]
     },
     "metadata": {},
     "output_type": "display_data"
    }
   ],
   "source": [
    "import matplotlib as mpl\n",
    "import matplotlib.pyplot as plt\n",
    "import seaborn as sns\n",
    "\n",
    "sns.set_style('white', {\"xtick.major.size\": 2, \"ytick.major.size\": 2})\n",
    "flatui = [\"#9b59b6\", \"#3498db\", \"#95a5a6\", \"#e74c3c\", \"#34495e\", \"#2ecc71\",\"#f4cae4\"]\n",
    "sns.set_palette(sns.color_palette(flatui,7))\n",
    "\n",
    "font = {'family' : 'Serif',\n",
    "         'weight': 'normal',\n",
    "         'size'  : 11}\n",
    "mpl.rc('font', **font)\n",
    "# a4 size: 8.27,11.69\n",
    "fig = plt.figure(figsize=(8.27,3.5))\n",
    "ax = fig.add_subplot(111)\n",
    "\n",
    "ax.plot(plot_var, plot_mean, c = 'xkcd:ocean blue')\n",
    "ax.set_xlabel('variance')\n",
    "ax.set_ylabel('mean')\n",
    "ax.set_title('posterior mean-variance frontier')\n",
    "\n",
    "plt.legend(loc='best') \n",
    "plt.show()            "
   ]
  },
  {
   "cell_type": "code",
   "execution_count": null,
   "metadata": {
    "collapsed": true
   },
   "outputs": [],
   "source": []
  },
  {
   "cell_type": "code",
   "execution_count": null,
   "metadata": {
    "collapsed": true
   },
   "outputs": [],
   "source": []
  }
 ],
 "metadata": {
  "kernelspec": {
   "display_name": "Python 3",
   "language": "python",
   "name": "python3"
  },
  "language_info": {
   "codemirror_mode": {
    "name": "ipython",
    "version": 3
   },
   "file_extension": ".py",
   "mimetype": "text/x-python",
   "name": "python",
   "nbconvert_exporter": "python",
   "pygments_lexer": "ipython3",
   "version": "3.6.3"
  }
 },
 "nbformat": 4,
 "nbformat_minor": 2
}
